{
 "cells": [
  {
   "cell_type": "code",
   "execution_count": 30,
   "metadata": {
    "collapsed": true
   },
   "outputs": [],
   "source": [
    "# imports\n",
    "import warnings\n",
    "warnings.filterwarnings('ignore')\n",
    "import pandas as pd\n",
    "import numpy as np\n",
    "import matplotlib.pyplot as plt\n",
    "%matplotlib inline"
   ]
  },
  {
   "cell_type": "code",
   "execution_count": 31,
   "metadata": {},
   "outputs": [
    {
     "name": "stdout",
     "output_type": "stream",
     "text": [
      "(538, 8)\n"
     ]
    },
    {
     "data": {
      "text/html": [
       "<div>\n",
       "<style>\n",
       "    .dataframe thead tr:only-child th {\n",
       "        text-align: right;\n",
       "    }\n",
       "\n",
       "    .dataframe thead th {\n",
       "        text-align: left;\n",
       "    }\n",
       "\n",
       "    .dataframe tbody tr th {\n",
       "        vertical-align: top;\n",
       "    }\n",
       "</style>\n",
       "<table border=\"1\" class=\"dataframe\">\n",
       "  <thead>\n",
       "    <tr style=\"text-align: right;\">\n",
       "      <th></th>\n",
       "      <th>Date</th>\n",
       "      <th>Price</th>\n",
       "      <th>Open</th>\n",
       "      <th>High</th>\n",
       "      <th>Low</th>\n",
       "      <th>Vol.</th>\n",
       "      <th>Change %</th>\n",
       "      <th>Date_m</th>\n",
       "    </tr>\n",
       "  </thead>\n",
       "  <tbody>\n",
       "    <tr>\n",
       "      <th>0</th>\n",
       "      <td>04-Jan-16</td>\n",
       "      <td>17148.94</td>\n",
       "      <td>17405.48</td>\n",
       "      <td>17405.48</td>\n",
       "      <td>16957.63</td>\n",
       "      <td>148000000</td>\n",
       "      <td>-1.58</td>\n",
       "      <td>42373</td>\n",
       "    </tr>\n",
       "    <tr>\n",
       "      <th>1</th>\n",
       "      <td>05-Jan-16</td>\n",
       "      <td>17158.66</td>\n",
       "      <td>17147.50</td>\n",
       "      <td>17195.84</td>\n",
       "      <td>17038.61</td>\n",
       "      <td>105700000</td>\n",
       "      <td>0.06</td>\n",
       "      <td>42374</td>\n",
       "    </tr>\n",
       "    <tr>\n",
       "      <th>2</th>\n",
       "      <td>06-Jan-16</td>\n",
       "      <td>16906.51</td>\n",
       "      <td>17154.83</td>\n",
       "      <td>17154.83</td>\n",
       "      <td>16817.62</td>\n",
       "      <td>120200000</td>\n",
       "      <td>-1.47</td>\n",
       "      <td>42375</td>\n",
       "    </tr>\n",
       "    <tr>\n",
       "      <th>3</th>\n",
       "      <td>07-Jan-16</td>\n",
       "      <td>16514.10</td>\n",
       "      <td>16888.36</td>\n",
       "      <td>16888.36</td>\n",
       "      <td>16463.63</td>\n",
       "      <td>176200000</td>\n",
       "      <td>-2.32</td>\n",
       "      <td>42376</td>\n",
       "    </tr>\n",
       "    <tr>\n",
       "      <th>4</th>\n",
       "      <td>08-Jan-16</td>\n",
       "      <td>16346.45</td>\n",
       "      <td>16519.17</td>\n",
       "      <td>16651.89</td>\n",
       "      <td>16314.57</td>\n",
       "      <td>141800000</td>\n",
       "      <td>-1.02</td>\n",
       "      <td>42377</td>\n",
       "    </tr>\n",
       "    <tr>\n",
       "      <th>5</th>\n",
       "      <td>11-Jan-16</td>\n",
       "      <td>16398.57</td>\n",
       "      <td>16358.71</td>\n",
       "      <td>16461.85</td>\n",
       "      <td>16232.03</td>\n",
       "      <td>127800000</td>\n",
       "      <td>0.32</td>\n",
       "      <td>42380</td>\n",
       "    </tr>\n",
       "    <tr>\n",
       "      <th>6</th>\n",
       "      <td>12-Jan-16</td>\n",
       "      <td>16516.22</td>\n",
       "      <td>16419.11</td>\n",
       "      <td>16591.35</td>\n",
       "      <td>16322.07</td>\n",
       "      <td>117400000</td>\n",
       "      <td>0.72</td>\n",
       "      <td>42381</td>\n",
       "    </tr>\n",
       "    <tr>\n",
       "      <th>7</th>\n",
       "      <td>13-Jan-16</td>\n",
       "      <td>16151.41</td>\n",
       "      <td>16526.63</td>\n",
       "      <td>16593.51</td>\n",
       "      <td>16123.20</td>\n",
       "      <td>153500000</td>\n",
       "      <td>-2.21</td>\n",
       "      <td>42382</td>\n",
       "    </tr>\n",
       "    <tr>\n",
       "      <th>8</th>\n",
       "      <td>14-Jan-16</td>\n",
       "      <td>16379.05</td>\n",
       "      <td>16159.01</td>\n",
       "      <td>16482.05</td>\n",
       "      <td>16075.12</td>\n",
       "      <td>158800000</td>\n",
       "      <td>1.41</td>\n",
       "      <td>42383</td>\n",
       "    </tr>\n",
       "    <tr>\n",
       "      <th>9</th>\n",
       "      <td>15-Jan-16</td>\n",
       "      <td>15988.08</td>\n",
       "      <td>16354.33</td>\n",
       "      <td>16354.33</td>\n",
       "      <td>15842.11</td>\n",
       "      <td>239200000</td>\n",
       "      <td>-2.39</td>\n",
       "      <td>42384</td>\n",
       "    </tr>\n",
       "  </tbody>\n",
       "</table>\n",
       "</div>"
      ],
      "text/plain": [
       "        Date     Price      Open      High       Low       Vol.  Change %  \\\n",
       "0  04-Jan-16  17148.94  17405.48  17405.48  16957.63  148000000     -1.58   \n",
       "1  05-Jan-16  17158.66  17147.50  17195.84  17038.61  105700000      0.06   \n",
       "2  06-Jan-16  16906.51  17154.83  17154.83  16817.62  120200000     -1.47   \n",
       "3  07-Jan-16  16514.10  16888.36  16888.36  16463.63  176200000     -2.32   \n",
       "4  08-Jan-16  16346.45  16519.17  16651.89  16314.57  141800000     -1.02   \n",
       "5  11-Jan-16  16398.57  16358.71  16461.85  16232.03  127800000      0.32   \n",
       "6  12-Jan-16  16516.22  16419.11  16591.35  16322.07  117400000      0.72   \n",
       "7  13-Jan-16  16151.41  16526.63  16593.51  16123.20  153500000     -2.21   \n",
       "8  14-Jan-16  16379.05  16159.01  16482.05  16075.12  158800000      1.41   \n",
       "9  15-Jan-16  15988.08  16354.33  16354.33  15842.11  239200000     -2.39   \n",
       "\n",
       "   Date_m  \n",
       "0   42373  \n",
       "1   42374  \n",
       "2   42375  \n",
       "3   42376  \n",
       "4   42377  \n",
       "5   42380  \n",
       "6   42381  \n",
       "7   42382  \n",
       "8   42383  \n",
       "9   42384  "
      ]
     },
     "execution_count": 31,
     "metadata": {},
     "output_type": "execute_result"
    }
   ],
   "source": [
    "df = pd.read_csv('DOW.csv', index_col = 0, skiprows=0)\n",
    "df=df.reset_index()\n",
    "print(df.shape)\n",
    "df.head(10)"
   ]
  },
  {
   "cell_type": "code",
   "execution_count": 32,
   "metadata": {},
   "outputs": [
    {
     "data": {
      "text/html": [
       "<div>\n",
       "<style>\n",
       "    .dataframe thead tr:only-child th {\n",
       "        text-align: right;\n",
       "    }\n",
       "\n",
       "    .dataframe thead th {\n",
       "        text-align: left;\n",
       "    }\n",
       "\n",
       "    .dataframe tbody tr th {\n",
       "        vertical-align: top;\n",
       "    }\n",
       "</style>\n",
       "<table border=\"1\" class=\"dataframe\">\n",
       "  <thead>\n",
       "    <tr style=\"text-align: right;\">\n",
       "      <th></th>\n",
       "      <th>Price</th>\n",
       "      <th>Date_m</th>\n",
       "    </tr>\n",
       "  </thead>\n",
       "  <tbody>\n",
       "    <tr>\n",
       "      <th>0</th>\n",
       "      <td>17148.94</td>\n",
       "      <td>42373</td>\n",
       "    </tr>\n",
       "    <tr>\n",
       "      <th>1</th>\n",
       "      <td>17158.66</td>\n",
       "      <td>42374</td>\n",
       "    </tr>\n",
       "    <tr>\n",
       "      <th>2</th>\n",
       "      <td>16906.51</td>\n",
       "      <td>42375</td>\n",
       "    </tr>\n",
       "    <tr>\n",
       "      <th>3</th>\n",
       "      <td>16514.10</td>\n",
       "      <td>42376</td>\n",
       "    </tr>\n",
       "    <tr>\n",
       "      <th>4</th>\n",
       "      <td>16346.45</td>\n",
       "      <td>42377</td>\n",
       "    </tr>\n",
       "    <tr>\n",
       "      <th>5</th>\n",
       "      <td>16398.57</td>\n",
       "      <td>42380</td>\n",
       "    </tr>\n",
       "    <tr>\n",
       "      <th>6</th>\n",
       "      <td>16516.22</td>\n",
       "      <td>42381</td>\n",
       "    </tr>\n",
       "    <tr>\n",
       "      <th>7</th>\n",
       "      <td>16151.41</td>\n",
       "      <td>42382</td>\n",
       "    </tr>\n",
       "    <tr>\n",
       "      <th>8</th>\n",
       "      <td>16379.05</td>\n",
       "      <td>42383</td>\n",
       "    </tr>\n",
       "    <tr>\n",
       "      <th>9</th>\n",
       "      <td>15988.08</td>\n",
       "      <td>42384</td>\n",
       "    </tr>\n",
       "  </tbody>\n",
       "</table>\n",
       "</div>"
      ],
      "text/plain": [
       "      Price  Date_m\n",
       "0  17148.94   42373\n",
       "1  17158.66   42374\n",
       "2  16906.51   42375\n",
       "3  16514.10   42376\n",
       "4  16346.45   42377\n",
       "5  16398.57   42380\n",
       "6  16516.22   42381\n",
       "7  16151.41   42382\n",
       "8  16379.05   42383\n",
       "9  15988.08   42384"
      ]
     },
     "execution_count": 32,
     "metadata": {},
     "output_type": "execute_result"
    }
   ],
   "source": [
    "df=df.drop(\"Date\",axis=1,inplace=False);\n",
    "df=df.drop(\"Vol.\",axis=1,inplace=False);\n",
    "df=df.drop(\"Change %\",axis=1,inplace=False);\n",
    "df=df.drop(\"Low\",axis=1,inplace=False);\n",
    "df=df.drop(\"High\",axis=1,inplace=False);\n",
    "df=df.drop(\"Open\",axis=1,inplace=False);\n",
    "y =  df[\"Price\"]\n",
    "X = df.drop([\"Price\"],axis=1,inplace=False)\n",
    "df.head(10)"
   ]
  },
  {
   "cell_type": "code",
   "execution_count": 33,
   "metadata": {},
   "outputs": [
    {
     "name": "stdout",
     "output_type": "stream",
     "text": [
      "train set shape: 376, 376\n",
      "test set shape: 162, 376\n",
      "pred set shape: 162\n",
      "mse = 332021.82025535137, rmse = 576.2133461274143 \n",
      "mae = 454.8564016589984 r2 = 0.9477750519259318\n"
     ]
    }
   ],
   "source": [
    "import numpy as np\n",
    "from sklearn.cross_validation import train_test_split\n",
    "\n",
    "X_train, X_test, y_train, y_test = train_test_split(X, y, test_size=0.3, random_state=123)\n",
    "\n",
    "print(\"train set shape: %s, %s\" %(X_train.shape[0],y_train.shape[0]) )\n",
    "print(\"test set shape: %s, %s\" %(X_test.shape[0],y_train.shape[0]) )\n",
    "from sklearn import linear_model\n",
    "reg = linear_model.Lasso(alpha = 0.1)\n",
    "reg.fit(X_train, y_train)\n",
    "\n",
    "\n",
    "from sklearn.metrics import mean_squared_error\n",
    "from sklearn.metrics import mean_absolute_error\n",
    "from sklearn.metrics import r2_score\n",
    "import math\n",
    "y_pred = reg.predict(X_test)  # predict the demand for X_test\n",
    "mse = mean_squared_error(y_test, y_pred)  # Real vs predicted demand for X_test\n",
    "mae = mean_absolute_error(y_test, y_pred)\n",
    "r2 = r2_score(y_test,y_pred)\n",
    "print(\"pred set shape: %s\" %(y_pred.shape[0]) )\n",
    "print ('mse = {}, rmse = {} \\nmae = {} r2 = {}'.format(mse,math.sqrt(mse), mae, r2))\n",
    "\n"
   ]
  },
  {
   "cell_type": "code",
   "execution_count": null,
   "metadata": {
    "collapsed": true
   },
   "outputs": [],
   "source": []
  },
  {
   "cell_type": "code",
   "execution_count": 34,
   "metadata": {},
   "outputs": [
    {
     "data": {
      "image/png": "[encoded data removed]",
      "text/plain": [
       "<matplotlib.figure.Figure at 0x20890af6978>"
      ]
     },
     "metadata": {},
     "output_type": "display_data"
    }
   ],
   "source": [
    "import matplotlib.pyplot as plt\n",
    "fig, ax = plt.subplots()\n",
    "ax.scatter(y_test, y_pred, edgecolors=(0, 0, 0))\n",
    "ax.plot([y_test.min(), y_test.max()], [y_pred.min(), y_pred.max()], 'k--', lw=4)\n",
    "ax.set_xlabel('Measured')\n",
    "ax.set_ylabel('Predicted')\n",
    "plt.show()"
   ]
  },
  {
   "cell_type": "code",
   "execution_count": 35,
   "metadata": {},
   "outputs": [
    {
     "data": {
      "text/html": [
       "<div>\n",
       "<style>\n",
       "    .dataframe thead tr:only-child th {\n",
       "        text-align: right;\n",
       "    }\n",
       "\n",
       "    .dataframe thead th {\n",
       "        text-align: left;\n",
       "    }\n",
       "\n",
       "    .dataframe tbody tr th {\n",
       "        vertical-align: top;\n",
       "    }\n",
       "</style>\n",
       "<table border=\"1\" class=\"dataframe\">\n",
       "  <thead>\n",
       "    <tr style=\"text-align: right;\">\n",
       "      <th></th>\n",
       "      <th>Date_m</th>\n",
       "    </tr>\n",
       "  </thead>\n",
       "  <tbody>\n",
       "    <tr>\n",
       "      <th>0</th>\n",
       "      <td>43109</td>\n",
       "    </tr>\n",
       "    <tr>\n",
       "      <th>1</th>\n",
       "      <td>43110</td>\n",
       "    </tr>\n",
       "    <tr>\n",
       "      <th>2</th>\n",
       "      <td>43111</td>\n",
       "    </tr>\n",
       "    <tr>\n",
       "      <th>3</th>\n",
       "      <td>43112</td>\n",
       "    </tr>\n",
       "    <tr>\n",
       "      <th>4</th>\n",
       "      <td>43113</td>\n",
       "    </tr>\n",
       "    <tr>\n",
       "      <th>5</th>\n",
       "      <td>43114</td>\n",
       "    </tr>\n",
       "    <tr>\n",
       "      <th>6</th>\n",
       "      <td>43115</td>\n",
       "    </tr>\n",
       "    <tr>\n",
       "      <th>7</th>\n",
       "      <td>43116</td>\n",
       "    </tr>\n",
       "    <tr>\n",
       "      <th>8</th>\n",
       "      <td>43117</td>\n",
       "    </tr>\n",
       "    <tr>\n",
       "      <th>9</th>\n",
       "      <td>43118</td>\n",
       "    </tr>\n",
       "  </tbody>\n",
       "</table>\n",
       "</div>"
      ],
      "text/plain": [
       "   Date_m\n",
       "0   43109\n",
       "1   43110\n",
       "2   43111\n",
       "3   43112\n",
       "4   43113\n",
       "5   43114\n",
       "6   43115\n",
       "7   43116\n",
       "8   43117\n",
       "9   43118"
      ]
     },
     "execution_count": 35,
     "metadata": {},
     "output_type": "execute_result"
    }
   ],
   "source": [
    "df = pd.read_csv('Dates2predict.csv', index_col = 0, skiprows=0)\n",
    "df=df.reset_index()\n",
    "df.head(10)"
   ]
  },
  {
   "cell_type": "code",
   "execution_count": 36,
   "metadata": {},
   "outputs": [
    {
     "data": {
      "image/png": "[encoded data removed]",
      "text/plain": [
       "<matplotlib.figure.Figure at 0x20890a8a3c8>"
      ]
     },
     "metadata": {},
     "output_type": "display_data"
    }
   ],
   "source": [
    "X_test = df\n",
    "y_pred = reg.predict(X_test)\n",
    "\n",
    "import matplotlib.pyplot as plt\n",
    "fig, ax = plt.subplots()\n",
    "ax.scatter(X_test.index,y_pred, edgecolors=(0, 0, 0))\n",
    "ax.set_xlabel('index')\n",
    "ax.set_ylabel('price')\n",
    "plt.show()\n"
   ]
  },
  {
   "cell_type": "code",
   "execution_count": 37,
   "metadata": {},
   "outputs": [
    {
     "name": "stdout",
     "output_type": "stream",
     "text": [
      "train set shape: 538, 538\n",
      "test set shape: 0, 538\n"
     ]
    },
    {
     "data": {
      "text/plain": [
       "Lasso(alpha=1.0, copy_X=True, fit_intercept=True, max_iter=1000,\n",
       "   normalize=False, positive=False, precompute=False, random_state=None,\n",
       "   selection='cyclic', tol=0.0001, warm_start=False)"
      ]
     },
     "execution_count": 37,
     "metadata": {},
     "output_type": "execute_result"
    }
   ],
   "source": [
    "\n",
    "import numpy as np\n",
    "from sklearn.cross_validation import train_test_split\n",
    "\n",
    "X_train, X_test, y_train, y_test = train_test_split(X, y, test_size=0.0, random_state=123)\n",
    "\n",
    "\n",
    "print(\"train set shape: %s, %s\" %(X_train.shape[0],y_train.shape[0]) )\n",
    "print(\"test set shape: %s, %s\" %(X_test.shape[0],y_train.shape[0]) )\n",
    "from sklearn import linear_model\n",
    "reg = linear_model.Lasso()\n",
    "reg.fit(X_train, y_train)"
   ]
  },
  {
   "cell_type": "code",
   "execution_count": 38,
   "metadata": {},
   "outputs": [
    {
     "data": {
      "image/png": "[encoded data removed]",
      "text/plain": [
       "<matplotlib.figure.Figure at 0x20891ff66d8>"
      ]
     },
     "metadata": {},
     "output_type": "display_data"
    }
   ],
   "source": [
    "import matplotlib.pyplot as plt\n",
    "fig, ax = plt.subplots()\n",
    "ax.scatter(X_train,y_train, edgecolors=(0, 0, 0))\n",
    "ax.set_xlabel('Price')\n",
    "ax.set_ylabel('time')\n",
    "plt.show()\n"
   ]
  },
  {
   "cell_type": "code",
   "execution_count": null,
   "metadata": {
    "collapsed": true
   },
   "outputs": [],
   "source": []
  },
  {
   "cell_type": "code",
   "execution_count": null,
   "metadata": {
    "collapsed": true
   },
   "outputs": [],
   "source": []
  },
  {
   "cell_type": "code",
   "execution_count": 39,
   "metadata": {},
   "outputs": [
    {
     "data": {
      "text/html": [
       "<div>\n",
       "<style>\n",
       "    .dataframe thead tr:only-child th {\n",
       "        text-align: right;\n",
       "    }\n",
       "\n",
       "    .dataframe thead th {\n",
       "        text-align: left;\n",
       "    }\n",
       "\n",
       "    .dataframe tbody tr th {\n",
       "        vertical-align: top;\n",
       "    }\n",
       "</style>\n",
       "<table border=\"1\" class=\"dataframe\">\n",
       "  <thead>\n",
       "    <tr style=\"text-align: right;\">\n",
       "      <th></th>\n",
       "      <th>Date_m</th>\n",
       "    </tr>\n",
       "  </thead>\n",
       "  <tbody>\n",
       "    <tr>\n",
       "      <th>0</th>\n",
       "      <td>43109</td>\n",
       "    </tr>\n",
       "    <tr>\n",
       "      <th>1</th>\n",
       "      <td>43110</td>\n",
       "    </tr>\n",
       "    <tr>\n",
       "      <th>2</th>\n",
       "      <td>43111</td>\n",
       "    </tr>\n",
       "    <tr>\n",
       "      <th>3</th>\n",
       "      <td>43112</td>\n",
       "    </tr>\n",
       "    <tr>\n",
       "      <th>4</th>\n",
       "      <td>43113</td>\n",
       "    </tr>\n",
       "    <tr>\n",
       "      <th>5</th>\n",
       "      <td>43114</td>\n",
       "    </tr>\n",
       "    <tr>\n",
       "      <th>6</th>\n",
       "      <td>43115</td>\n",
       "    </tr>\n",
       "    <tr>\n",
       "      <th>7</th>\n",
       "      <td>43116</td>\n",
       "    </tr>\n",
       "    <tr>\n",
       "      <th>8</th>\n",
       "      <td>43117</td>\n",
       "    </tr>\n",
       "    <tr>\n",
       "      <th>9</th>\n",
       "      <td>43118</td>\n",
       "    </tr>\n",
       "  </tbody>\n",
       "</table>\n",
       "</div>"
      ],
      "text/plain": [
       "   Date_m\n",
       "0   43109\n",
       "1   43110\n",
       "2   43111\n",
       "3   43112\n",
       "4   43113\n",
       "5   43114\n",
       "6   43115\n",
       "7   43116\n",
       "8   43117\n",
       "9   43118"
      ]
     },
     "execution_count": 39,
     "metadata": {},
     "output_type": "execute_result"
    }
   ],
   "source": [
    "df = pd.read_csv('Dates2predict.csv', index_col = 0, skiprows=0)\n",
    "df=df.reset_index()\n",
    "X_test = df\n",
    "\n",
    "X_test.head(10)\n"
   ]
  },
  {
   "cell_type": "code",
   "execution_count": 40,
   "metadata": {},
   "outputs": [
    {
     "data": {
      "image/png": "[encoded data removed]",
      "text/plain": [
       "<matplotlib.figure.Figure at 0x20890b9e4e0>"
      ]
     },
     "metadata": {},
     "output_type": "display_data"
    }
   ],
   "source": [
    "y_pred = reg.predict(X_test)\n",
    "\n",
    "import matplotlib.pyplot as plt\n",
    "fig, ax = plt.subplots()\n",
    "ax.scatter(X_test,y_pred, edgecolors=(0, 0, 0))\n",
    "ax.set_xlabel('time')\n",
    "ax.set_ylabel('price')\n",
    "plt.show()\n",
    "\n",
    "prediction = pd.DataFrame(X_test,y_pred).to_csv('prediction_DOW.csv')\n"
   ]
  },
  {
   "cell_type": "code",
   "execution_count": null,
   "metadata": {
    "collapsed": true
   },
   "outputs": [],
   "source": []
  }
 ],
 "metadata": {
  "kernelspec": {
   "display_name": "Python 3",
   "language": "python",
   "name": "python3"
  },
  "language_info": {
   "codemirror_mode": {
    "name": "ipython",
    "version": 3
   },
   "file_extension": ".py",
   "mimetype": "text/x-python",
   "name": "python",
   "nbconvert_exporter": "python",
   "pygments_lexer": "ipython3",
   "version": "3.6.1"
  }
 },
 "nbformat": 4,
 "nbformat_minor": 2
}
