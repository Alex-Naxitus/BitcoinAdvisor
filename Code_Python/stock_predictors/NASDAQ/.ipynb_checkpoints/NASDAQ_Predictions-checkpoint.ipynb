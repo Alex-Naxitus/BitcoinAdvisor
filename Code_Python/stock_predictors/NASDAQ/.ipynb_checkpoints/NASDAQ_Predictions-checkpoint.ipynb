{
 "cells": [
  {
   "cell_type": "markdown",
   "metadata": {},
   "source": [
    "# NASDAQ predictions :\n",
    "\n",
    "#### Our goal here is to use linear regression to predict the price of a stock (NASDAQ index) over a short to medium term.\n",
    "###### Kaggle member : @Alex_NAT\n",
    "###### Email : alex.cornec@hotmail.fr"
   ]
  },
  {
   "cell_type": "markdown",
   "metadata": {},
   "source": [
    "#### First we need to know if we can predict using Linear regression ? And how accurate are our predictions ?"
   ]
  },
  {
   "cell_type": "code",
   "execution_count": 1,
   "metadata": {
    "collapsed": true
   },
   "outputs": [],
   "source": [
    "# import libraries\n",
    "import warnings\n",
    "warnings.filterwarnings('ignore')\n",
    "import pandas as pd\n",
    "import numpy as np\n",
    "import matplotlib.pyplot as plt\n",
    "%matplotlib inline"
   ]
  },
  {
   "cell_type": "code",
   "execution_count": 11,
   "metadata": {},
   "outputs": [
    {
     "name": "stdout",
     "output_type": "stream",
     "text": [
      "(302, 8)\n"
     ]
    },
    {
     "data": {
      "text/html": [
       "<div>\n",
       "<style>\n",
       "    .dataframe thead tr:only-child th {\n",
       "        text-align: right;\n",
       "    }\n",
       "\n",
       "    .dataframe thead th {\n",
       "        text-align: left;\n",
       "    }\n",
       "\n",
       "    .dataframe tbody tr th {\n",
       "        vertical-align: top;\n",
       "    }\n",
       "</style>\n",
       "<table border=\"1\" class=\"dataframe\">\n",
       "  <thead>\n",
       "    <tr style=\"text-align: right;\">\n",
       "      <th></th>\n",
       "      <th>Date_m</th>\n",
       "      <th>Date</th>\n",
       "      <th>Price</th>\n",
       "      <th>Open</th>\n",
       "      <th>High</th>\n",
       "      <th>Low</th>\n",
       "      <th>Vol.</th>\n",
       "      <th>Change %</th>\n",
       "    </tr>\n",
       "  </thead>\n",
       "  <tbody>\n",
       "    <tr>\n",
       "      <th>0</th>\n",
       "      <td>42677</td>\n",
       "      <td>03-Nov-16</td>\n",
       "      <td>5058.41</td>\n",
       "      <td>5104.70</td>\n",
       "      <td>5115.06</td>\n",
       "      <td>5053.52</td>\n",
       "      <td>471.92M</td>\n",
       "      <td>-0.92</td>\n",
       "    </tr>\n",
       "    <tr>\n",
       "      <th>1</th>\n",
       "      <td>42678</td>\n",
       "      <td>04-Nov-16</td>\n",
       "      <td>5046.37</td>\n",
       "      <td>5034.41</td>\n",
       "      <td>5087.51</td>\n",
       "      <td>5034.41</td>\n",
       "      <td>478.36M</td>\n",
       "      <td>-0.24</td>\n",
       "    </tr>\n",
       "    <tr>\n",
       "      <th>2</th>\n",
       "      <td>42681</td>\n",
       "      <td>07-Nov-16</td>\n",
       "      <td>5166.17</td>\n",
       "      <td>5128.99</td>\n",
       "      <td>5169.41</td>\n",
       "      <td>5122.77</td>\n",
       "      <td>456.10M</td>\n",
       "      <td>2.37</td>\n",
       "    </tr>\n",
       "    <tr>\n",
       "      <th>3</th>\n",
       "      <td>42682</td>\n",
       "      <td>08-Nov-16</td>\n",
       "      <td>5193.49</td>\n",
       "      <td>5154.99</td>\n",
       "      <td>5214.17</td>\n",
       "      <td>5145.30</td>\n",
       "      <td>395.69M</td>\n",
       "      <td>0.53</td>\n",
       "    </tr>\n",
       "    <tr>\n",
       "      <th>4</th>\n",
       "      <td>42683</td>\n",
       "      <td>09-Nov-16</td>\n",
       "      <td>5251.07</td>\n",
       "      <td>5143.86</td>\n",
       "      <td>5258.99</td>\n",
       "      <td>5143.86</td>\n",
       "      <td>673.59M</td>\n",
       "      <td>1.11</td>\n",
       "    </tr>\n",
       "  </tbody>\n",
       "</table>\n",
       "</div>"
      ],
      "text/plain": [
       "   Date_m       Date    Price     Open     High      Low     Vol.  Change %\n",
       "0   42677  03-Nov-16  5058.41  5104.70  5115.06  5053.52  471.92M     -0.92\n",
       "1   42678  04-Nov-16  5046.37  5034.41  5087.51  5034.41  478.36M     -0.24\n",
       "2   42681  07-Nov-16  5166.17  5128.99  5169.41  5122.77  456.10M      2.37\n",
       "3   42682  08-Nov-16  5193.49  5154.99  5214.17  5145.30  395.69M      0.53\n",
       "4   42683  09-Nov-16  5251.07  5143.86  5258.99  5143.86  673.59M      1.11"
      ]
     },
     "execution_count": 11,
     "metadata": {},
     "output_type": "execute_result"
    }
   ],
   "source": [
    "#Get NASDAQ values from pre-downloaded CSV file from November 11th 2016 to January 17th 2018\n",
    "\n",
    "df = pd.read_csv('NASDAQ Composite Historical Data.csv', index_col = 0, skiprows=0)\n",
    "df=df.reset_index()\n",
    "print(df.shape)\n",
    "df.head(5) #show first 5 rows"
   ]
  },
  {
   "cell_type": "code",
   "execution_count": 12,
   "metadata": {},
   "outputs": [
    {
     "data": {
      "text/html": [
       "<div>\n",
       "<style>\n",
       "    .dataframe thead tr:only-child th {\n",
       "        text-align: right;\n",
       "    }\n",
       "\n",
       "    .dataframe thead th {\n",
       "        text-align: left;\n",
       "    }\n",
       "\n",
       "    .dataframe tbody tr th {\n",
       "        vertical-align: top;\n",
       "    }\n",
       "</style>\n",
       "<table border=\"1\" class=\"dataframe\">\n",
       "  <thead>\n",
       "    <tr style=\"text-align: right;\">\n",
       "      <th></th>\n",
       "      <th>Date_m</th>\n",
       "      <th>Price</th>\n",
       "    </tr>\n",
       "  </thead>\n",
       "  <tbody>\n",
       "    <tr>\n",
       "      <th>0</th>\n",
       "      <td>42677</td>\n",
       "      <td>5058.41</td>\n",
       "    </tr>\n",
       "    <tr>\n",
       "      <th>1</th>\n",
       "      <td>42678</td>\n",
       "      <td>5046.37</td>\n",
       "    </tr>\n",
       "    <tr>\n",
       "      <th>2</th>\n",
       "      <td>42681</td>\n",
       "      <td>5166.17</td>\n",
       "    </tr>\n",
       "    <tr>\n",
       "      <th>3</th>\n",
       "      <td>42682</td>\n",
       "      <td>5193.49</td>\n",
       "    </tr>\n",
       "    <tr>\n",
       "      <th>4</th>\n",
       "      <td>42683</td>\n",
       "      <td>5251.07</td>\n",
       "    </tr>\n",
       "  </tbody>\n",
       "</table>\n",
       "</div>"
      ],
      "text/plain": [
       "   Date_m    Price\n",
       "0   42677  5058.41\n",
       "1   42678  5046.37\n",
       "2   42681  5166.17\n",
       "3   42682  5193.49\n",
       "4   42683  5251.07"
      ]
     },
     "execution_count": 12,
     "metadata": {},
     "output_type": "execute_result"
    }
   ],
   "source": [
    "# Keep only price and integerized dates (Price and date_m)\n",
    "\n",
    "df=df.drop(\"Date\",axis=1,inplace=False);\n",
    "df=df.drop(\"Vol.\",axis=1,inplace=False);\n",
    "df=df.drop(\"Change %\",axis=1,inplace=False);\n",
    "df=df.drop(\"Low\",axis=1,inplace=False);\n",
    "df=df.drop(\"High\",axis=1,inplace=False);\n",
    "df=df.drop(\"Open\",axis=1,inplace=False);\n",
    "y =  df[\"Price\"]\n",
    "X = df.drop([\"Price\"],axis=1,inplace=False)\n",
    "df.head(5) #show first 5 rows"
   ]
  },
  {
   "cell_type": "code",
   "execution_count": 4,
   "metadata": {},
   "outputs": [
    {
     "name": "stderr",
     "output_type": "stream",
     "text": [
      "C:\\Users\\Alex\\Anaconda3\\lib\\site-packages\\sklearn\\cross_validation.py:44: DeprecationWarning: This module was deprecated in version 0.18 in favor of the model_selection module into which all the refactored classes and functions are moved. Also note that the interface of the new CV iterators are different from that of this module. This module will be removed in 0.20.\n",
      "  \"This module will be removed in 0.20.\", DeprecationWarning)\n"
     ]
    },
    {
     "name": "stdout",
     "output_type": "stream",
     "text": [
      "train set shape: 211, 211\n",
      "test set shape: 91, 211\n",
      "pred set shape: 91\n",
      "mse = 8716.12108202929, rmse = 93.36016860540308 \n",
      "mae = 73.21193702996119 r2 = 0.9674500839199026\n"
     ]
    }
   ],
   "source": [
    "#Train and test to make Linear regression to make predictions according to dates\n",
    "\n",
    "import numpy as np\n",
    "from sklearn.cross_validation import train_test_split\n",
    "\n",
    "X_train, X_test, y_train, y_test = train_test_split(X, y, test_size=0.3, random_state=123)\n",
    "\n",
    "print(\"train set shape: %s, %s\" %(X_train.shape[0],y_train.shape[0]) )\n",
    "print(\"test set shape: %s, %s\" %(X_test.shape[0],y_train.shape[0]) )\n",
    "from sklearn import linear_model\n",
    "reg = linear_model.Lasso(alpha = 0.1)\n",
    "reg.fit(X_train, y_train)\n",
    "\n",
    "\n",
    "from sklearn.metrics import mean_squared_error\n",
    "from sklearn.metrics import mean_absolute_error\n",
    "from sklearn.metrics import r2_score\n",
    "import math\n",
    "y_pred = reg.predict(X_test)  # predict the demand for X_test\n",
    "mse = mean_squared_error(y_test, y_pred)  # Real vs predicted demand for X_test\n",
    "mae = mean_absolute_error(y_test, y_pred)\n",
    "r2 = r2_score(y_test,y_pred)\n",
    "print(\"pred set shape: %s\" %(y_pred.shape[0]) )\n",
    "print ('mse = {}, rmse = {} \\nmae = {} r2 = {}'.format(mse,math.sqrt(mse), mae, r2))\n",
    "\n"
   ]
  },
  {
   "cell_type": "markdown",
   "metadata": {
    "collapsed": true
   },
   "source": [
    "#### As you can see we had an R2 accuracy of 96.7% , which means our model is highly accurate"
   ]
  },
  {
   "cell_type": "markdown",
   "metadata": {},
   "source": [
    "#### Now we will make predictions into the near-future :"
   ]
  },
  {
   "cell_type": "code",
   "execution_count": 5,
   "metadata": {},
   "outputs": [
    {
     "data": {
      "image/png": "[encoded data removed]",
      "text/plain": [
       "<matplotlib.figure.Figure at 0x1d5b77638d0>"
      ]
     },
     "metadata": {},
     "output_type": "display_data"
    }
   ],
   "source": [
    "#Plot errors of past predicted values - real past values\n",
    "\n",
    "import matplotlib.pyplot as plt\n",
    "fig, ax = plt.subplots()\n",
    "ax.scatter(y_test, y_pred, edgecolors=(0, 0, 0))\n",
    "ax.plot([y_test.min(), y_test.max()], [y_pred.min(), y_pred.max()], 'k--', lw=4)\n",
    "ax.set_xlabel('Measured')\n",
    "ax.set_ylabel('Predicted')\n",
    "plt.show()"
   ]
  },
  {
   "cell_type": "code",
   "execution_count": 7,
   "metadata": {},
   "outputs": [
    {
     "name": "stdout",
     "output_type": "stream",
     "text": [
      "train set shape: 302, 302\n",
      "test set shape: 0, 302\n"
     ]
    },
    {
     "data": {
      "text/plain": [
       "Lasso(alpha=1.0, copy_X=True, fit_intercept=True, max_iter=1000,\n",
       "   normalize=False, positive=False, precompute=False, random_state=None,\n",
       "   selection='cyclic', tol=0.0001, warm_start=False)"
      ]
     },
     "execution_count": 7,
     "metadata": {},
     "output_type": "execute_result"
    }
   ],
   "source": [
    "#Train linear regression with all data (no test data)\n",
    "\n",
    "import numpy as np\n",
    "from sklearn.cross_validation import train_test_split\n",
    "\n",
    "X_train, X_test, y_train, y_test = train_test_split(X, y, test_size=0.0, random_state=123)\n",
    "\n",
    "\n",
    "print(\"train set shape: %s, %s\" %(X_train.shape[0],y_train.shape[0]) )\n",
    "print(\"test set shape: %s, %s\" %(X_test.shape[0],y_train.shape[0]) )\n",
    "from sklearn import linear_model\n",
    "reg = linear_model.Lasso()\n",
    "reg.fit(X_train, y_train)"
   ]
  },
  {
   "cell_type": "code",
   "execution_count": 8,
   "metadata": {},
   "outputs": [
    {
     "data": {
      "image/png": "[encoded data removed]",
      "text/plain": [
       "<matplotlib.figure.Figure at 0x1d5b7763f98>"
      ]
     },
     "metadata": {},
     "output_type": "display_data"
    }
   ],
   "source": [
    "#Show stock performance of NASDAQ\n",
    "\n",
    "import matplotlib.pyplot as plt\n",
    "fig, ax = plt.subplots()\n",
    "ax.scatter(X_train,y_train, edgecolors=(0, 0, 0))\n",
    "ax.set_xlabel('Price')\n",
    "ax.set_ylabel('NASDAQ')\n",
    "plt.show()\n"
   ]
  },
  {
   "cell_type": "code",
   "execution_count": 9,
   "metadata": {},
   "outputs": [
    {
     "data": {
      "text/html": [
       "<div>\n",
       "<style>\n",
       "    .dataframe thead tr:only-child th {\n",
       "        text-align: right;\n",
       "    }\n",
       "\n",
       "    .dataframe thead th {\n",
       "        text-align: left;\n",
       "    }\n",
       "\n",
       "    .dataframe tbody tr th {\n",
       "        vertical-align: top;\n",
       "    }\n",
       "</style>\n",
       "<table border=\"1\" class=\"dataframe\">\n",
       "  <thead>\n",
       "    <tr style=\"text-align: right;\">\n",
       "      <th></th>\n",
       "      <th>Date_m</th>\n",
       "    </tr>\n",
       "  </thead>\n",
       "  <tbody>\n",
       "    <tr>\n",
       "      <th>0</th>\n",
       "      <td>43109</td>\n",
       "    </tr>\n",
       "    <tr>\n",
       "      <th>1</th>\n",
       "      <td>43110</td>\n",
       "    </tr>\n",
       "    <tr>\n",
       "      <th>2</th>\n",
       "      <td>43111</td>\n",
       "    </tr>\n",
       "    <tr>\n",
       "      <th>3</th>\n",
       "      <td>43112</td>\n",
       "    </tr>\n",
       "    <tr>\n",
       "      <th>4</th>\n",
       "      <td>43113</td>\n",
       "    </tr>\n",
       "    <tr>\n",
       "      <th>5</th>\n",
       "      <td>43114</td>\n",
       "    </tr>\n",
       "    <tr>\n",
       "      <th>6</th>\n",
       "      <td>43115</td>\n",
       "    </tr>\n",
       "    <tr>\n",
       "      <th>7</th>\n",
       "      <td>43116</td>\n",
       "    </tr>\n",
       "    <tr>\n",
       "      <th>8</th>\n",
       "      <td>43117</td>\n",
       "    </tr>\n",
       "    <tr>\n",
       "      <th>9</th>\n",
       "      <td>43118</td>\n",
       "    </tr>\n",
       "  </tbody>\n",
       "</table>\n",
       "</div>"
      ],
      "text/plain": [
       "   Date_m\n",
       "0   43109\n",
       "1   43110\n",
       "2   43111\n",
       "3   43112\n",
       "4   43113\n",
       "5   43114\n",
       "6   43115\n",
       "7   43116\n",
       "8   43117\n",
       "9   43118"
      ]
     },
     "execution_count": 9,
     "metadata": {},
     "output_type": "execute_result"
    }
   ],
   "source": [
    "#List of future dates\n",
    "\n",
    "df = pd.read_csv('Dates2predict.csv', index_col = 0, skiprows=0)\n",
    "df=df.reset_index()\n",
    "X_test = df\n",
    "\n",
    "X_test.head(10)\n"
   ]
  },
  {
   "cell_type": "code",
   "execution_count": 10,
   "metadata": {},
   "outputs": [
    {
     "data": {
      "image/png": "[encoded data removed]",
      "text/plain": [
       "<matplotlib.figure.Figure at 0x1d5b8975e48>"
      ]
     },
     "metadata": {},
     "output_type": "display_data"
    }
   ],
   "source": [
    "#Make predictions of stock price according to future dates\n",
    "\n",
    "y_pred = reg.predict(X_test)\n",
    "\n",
    "import matplotlib.pyplot as plt\n",
    "fig, ax = plt.subplots()\n",
    "ax.scatter(X_test,y_pred, edgecolors=(0, 0, 0))\n",
    "ax.set_xlabel('time')\n",
    "ax.set_ylabel('price')\n",
    "plt.show()\n",
    "\n",
    "prediction = pd.DataFrame(X_test,y_pred).to_csv('prediction_NASDAQ.csv')\n",
    "\n",
    "# Predictions saved to the \"prediction_NASDAQ.csv\" file"
   ]
  },
  {
   "cell_type": "markdown",
   "metadata": {
    "collapsed": true
   },
   "source": [
    "##### Now that our predictions are done, we can put the data to predicts the price of Bitcoins in my other Kernel \"Bitcoin_Predictions\""
   ]
  }
 ],
 "metadata": {
  "kernelspec": {
   "display_name": "Python 3",
   "language": "python",
   "name": "python3"
  },
  "language_info": {
   "codemirror_mode": {
    "name": "ipython",
    "version": 3
   },
   "file_extension": ".py",
   "mimetype": "text/x-python",
   "name": "python",
   "nbconvert_exporter": "python",
   "pygments_lexer": "ipython3",
   "version": "3.6.1"
  }
 },
 "nbformat": 4,
 "nbformat_minor": 2
}
