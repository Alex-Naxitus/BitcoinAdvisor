{
 "cells": [
  {
   "cell_type": "code",
   "execution_count": 1,
   "metadata": {
    "collapsed": true
   },
   "outputs": [],
   "source": [
    "# imports\n",
    "import warnings\n",
    "warnings.filterwarnings('ignore')\n",
    "import pandas as pd\n",
    "import numpy as np\n",
    "import matplotlib.pyplot as plt\n",
    "%matplotlib inline"
   ]
  },
  {
   "cell_type": "code",
   "execution_count": 11,
   "metadata": {},
   "outputs": [
    {
     "name": "stdout",
     "output_type": "stream",
     "text": [
      "(83, 8)\n"
     ]
    },
    {
     "data": {
      "text/html": [
       "<div>\n",
       "<style>\n",
       "    .dataframe thead tr:only-child th {\n",
       "        text-align: right;\n",
       "    }\n",
       "\n",
       "    .dataframe thead th {\n",
       "        text-align: left;\n",
       "    }\n",
       "\n",
       "    .dataframe tbody tr th {\n",
       "        vertical-align: top;\n",
       "    }\n",
       "</style>\n",
       "<table border=\"1\" class=\"dataframe\">\n",
       "  <thead>\n",
       "    <tr style=\"text-align: right;\">\n",
       "      <th></th>\n",
       "      <th>Date</th>\n",
       "      <th>Price</th>\n",
       "      <th>Open</th>\n",
       "      <th>High</th>\n",
       "      <th>Low</th>\n",
       "      <th>Vol.</th>\n",
       "      <th>Change %</th>\n",
       "      <th>Date_m</th>\n",
       "    </tr>\n",
       "  </thead>\n",
       "  <tbody>\n",
       "    <tr>\n",
       "      <th>0</th>\n",
       "      <td>01-Nov-17</td>\n",
       "      <td>107.63</td>\n",
       "      <td>107.67</td>\n",
       "      <td>107.67</td>\n",
       "      <td>107.62</td>\n",
       "      <td>432000</td>\n",
       "      <td>-0.05</td>\n",
       "      <td>43040</td>\n",
       "    </tr>\n",
       "    <tr>\n",
       "      <th>1</th>\n",
       "      <td>02-Nov-17</td>\n",
       "      <td>107.66</td>\n",
       "      <td>107.65</td>\n",
       "      <td>107.69</td>\n",
       "      <td>107.63</td>\n",
       "      <td>334000</td>\n",
       "      <td>0.03</td>\n",
       "      <td>43041</td>\n",
       "    </tr>\n",
       "    <tr>\n",
       "      <th>2</th>\n",
       "      <td>03-Nov-17</td>\n",
       "      <td>107.63</td>\n",
       "      <td>107.66</td>\n",
       "      <td>107.70</td>\n",
       "      <td>107.60</td>\n",
       "      <td>288000</td>\n",
       "      <td>-0.03</td>\n",
       "      <td>43042</td>\n",
       "    </tr>\n",
       "    <tr>\n",
       "      <th>3</th>\n",
       "      <td>06-Nov-17</td>\n",
       "      <td>107.64</td>\n",
       "      <td>107.64</td>\n",
       "      <td>107.66</td>\n",
       "      <td>107.62</td>\n",
       "      <td>285000</td>\n",
       "      <td>0.01</td>\n",
       "      <td>43045</td>\n",
       "    </tr>\n",
       "    <tr>\n",
       "      <th>4</th>\n",
       "      <td>07-Nov-17</td>\n",
       "      <td>107.63</td>\n",
       "      <td>107.63</td>\n",
       "      <td>107.64</td>\n",
       "      <td>107.62</td>\n",
       "      <td>265000</td>\n",
       "      <td>-0.01</td>\n",
       "      <td>43046</td>\n",
       "    </tr>\n",
       "    <tr>\n",
       "      <th>5</th>\n",
       "      <td>08-Nov-17</td>\n",
       "      <td>107.61</td>\n",
       "      <td>107.62</td>\n",
       "      <td>107.64</td>\n",
       "      <td>107.59</td>\n",
       "      <td>242000</td>\n",
       "      <td>-0.02</td>\n",
       "      <td>43047</td>\n",
       "    </tr>\n",
       "    <tr>\n",
       "      <th>6</th>\n",
       "      <td>09-Nov-17</td>\n",
       "      <td>107.64</td>\n",
       "      <td>107.60</td>\n",
       "      <td>107.64</td>\n",
       "      <td>107.59</td>\n",
       "      <td>424000</td>\n",
       "      <td>0.03</td>\n",
       "      <td>43048</td>\n",
       "    </tr>\n",
       "    <tr>\n",
       "      <th>7</th>\n",
       "      <td>10-Nov-17</td>\n",
       "      <td>107.59</td>\n",
       "      <td>107.62</td>\n",
       "      <td>107.63</td>\n",
       "      <td>107.58</td>\n",
       "      <td>286000</td>\n",
       "      <td>-0.05</td>\n",
       "      <td>43049</td>\n",
       "    </tr>\n",
       "    <tr>\n",
       "      <th>8</th>\n",
       "      <td>13-Nov-17</td>\n",
       "      <td>107.54</td>\n",
       "      <td>107.59</td>\n",
       "      <td>107.61</td>\n",
       "      <td>107.52</td>\n",
       "      <td>281000</td>\n",
       "      <td>-0.05</td>\n",
       "      <td>43052</td>\n",
       "    </tr>\n",
       "    <tr>\n",
       "      <th>9</th>\n",
       "      <td>14-Nov-17</td>\n",
       "      <td>107.52</td>\n",
       "      <td>107.53</td>\n",
       "      <td>107.55</td>\n",
       "      <td>107.51</td>\n",
       "      <td>370000</td>\n",
       "      <td>-0.02</td>\n",
       "      <td>43053</td>\n",
       "    </tr>\n",
       "  </tbody>\n",
       "</table>\n",
       "</div>"
      ],
      "text/plain": [
       "        Date   Price    Open    High     Low    Vol.  Change %  Date_m\n",
       "0  01-Nov-17  107.63  107.67  107.67  107.62  432000     -0.05   43040\n",
       "1  02-Nov-17  107.66  107.65  107.69  107.63  334000      0.03   43041\n",
       "2  03-Nov-17  107.63  107.66  107.70  107.60  288000     -0.03   43042\n",
       "3  06-Nov-17  107.64  107.64  107.66  107.62  285000      0.01   43045\n",
       "4  07-Nov-17  107.63  107.63  107.64  107.62  265000     -0.01   43046\n",
       "5  08-Nov-17  107.61  107.62  107.64  107.59  242000     -0.02   43047\n",
       "6  09-Nov-17  107.64  107.60  107.64  107.59  424000      0.03   43048\n",
       "7  10-Nov-17  107.59  107.62  107.63  107.58  286000     -0.05   43049\n",
       "8  13-Nov-17  107.54  107.59  107.61  107.52  281000     -0.05   43052\n",
       "9  14-Nov-17  107.52  107.53  107.55  107.51  370000     -0.02   43053"
      ]
     },
     "execution_count": 11,
     "metadata": {},
     "output_type": "execute_result"
    }
   ],
   "source": [
    "df = pd.read_csv('T2YN.csv', index_col = 0, skiprows=0)\n",
    "df=df.reset_index()\n",
    "print(df.shape)\n",
    "df.head(10)"
   ]
  },
  {
   "cell_type": "code",
   "execution_count": 12,
   "metadata": {},
   "outputs": [
    {
     "data": {
      "text/html": [
       "<div>\n",
       "<style>\n",
       "    .dataframe thead tr:only-child th {\n",
       "        text-align: right;\n",
       "    }\n",
       "\n",
       "    .dataframe thead th {\n",
       "        text-align: left;\n",
       "    }\n",
       "\n",
       "    .dataframe tbody tr th {\n",
       "        vertical-align: top;\n",
       "    }\n",
       "</style>\n",
       "<table border=\"1\" class=\"dataframe\">\n",
       "  <thead>\n",
       "    <tr style=\"text-align: right;\">\n",
       "      <th></th>\n",
       "      <th>Price</th>\n",
       "      <th>Date_m</th>\n",
       "    </tr>\n",
       "  </thead>\n",
       "  <tbody>\n",
       "    <tr>\n",
       "      <th>0</th>\n",
       "      <td>107.63</td>\n",
       "      <td>43040</td>\n",
       "    </tr>\n",
       "    <tr>\n",
       "      <th>1</th>\n",
       "      <td>107.66</td>\n",
       "      <td>43041</td>\n",
       "    </tr>\n",
       "    <tr>\n",
       "      <th>2</th>\n",
       "      <td>107.63</td>\n",
       "      <td>43042</td>\n",
       "    </tr>\n",
       "    <tr>\n",
       "      <th>3</th>\n",
       "      <td>107.64</td>\n",
       "      <td>43045</td>\n",
       "    </tr>\n",
       "    <tr>\n",
       "      <th>4</th>\n",
       "      <td>107.63</td>\n",
       "      <td>43046</td>\n",
       "    </tr>\n",
       "    <tr>\n",
       "      <th>5</th>\n",
       "      <td>107.61</td>\n",
       "      <td>43047</td>\n",
       "    </tr>\n",
       "    <tr>\n",
       "      <th>6</th>\n",
       "      <td>107.64</td>\n",
       "      <td>43048</td>\n",
       "    </tr>\n",
       "    <tr>\n",
       "      <th>7</th>\n",
       "      <td>107.59</td>\n",
       "      <td>43049</td>\n",
       "    </tr>\n",
       "    <tr>\n",
       "      <th>8</th>\n",
       "      <td>107.54</td>\n",
       "      <td>43052</td>\n",
       "    </tr>\n",
       "    <tr>\n",
       "      <th>9</th>\n",
       "      <td>107.52</td>\n",
       "      <td>43053</td>\n",
       "    </tr>\n",
       "  </tbody>\n",
       "</table>\n",
       "</div>"
      ],
      "text/plain": [
       "    Price  Date_m\n",
       "0  107.63   43040\n",
       "1  107.66   43041\n",
       "2  107.63   43042\n",
       "3  107.64   43045\n",
       "4  107.63   43046\n",
       "5  107.61   43047\n",
       "6  107.64   43048\n",
       "7  107.59   43049\n",
       "8  107.54   43052\n",
       "9  107.52   43053"
      ]
     },
     "execution_count": 12,
     "metadata": {},
     "output_type": "execute_result"
    }
   ],
   "source": [
    "df=df.drop(\"Date\",axis=1,inplace=False);\n",
    "df=df.drop(\"Vol.\",axis=1,inplace=False);\n",
    "df=df.drop(\"Change %\",axis=1,inplace=False);\n",
    "df=df.drop(\"Low\",axis=1,inplace=False);\n",
    "df=df.drop(\"High\",axis=1,inplace=False);\n",
    "df=df.drop(\"Open\",axis=1,inplace=False);\n",
    "y =  df[\"Price\"]\n",
    "X = df.drop([\"Price\"],axis=1,inplace=False)\n",
    "df.head(10)"
   ]
  },
  {
   "cell_type": "code",
   "execution_count": 13,
   "metadata": {},
   "outputs": [
    {
     "name": "stdout",
     "output_type": "stream",
     "text": [
      "train set shape: 58, 58\n",
      "test set shape: 25, 58\n",
      "pred set shape: 25\n",
      "mse = 0.0025859235498112117, rmse = 0.050851976852539484 \n",
      "mae = 0.041947885535047365 r2 = 0.9838244550581086\n"
     ]
    }
   ],
   "source": [
    "import numpy as np\n",
    "from sklearn.cross_validation import train_test_split\n",
    "\n",
    "X_train, X_test, y_train, y_test = train_test_split(X, y, test_size=0.3, random_state=123)\n",
    "\n",
    "print(\"train set shape: %s, %s\" %(X_train.shape[0],y_train.shape[0]) )\n",
    "print(\"test set shape: %s, %s\" %(X_test.shape[0],y_train.shape[0]) )\n",
    "from sklearn import linear_model\n",
    "reg = linear_model.Lasso(alpha = 0.1)\n",
    "reg.fit(X_train, y_train)\n",
    "\n",
    "\n",
    "from sklearn.metrics import mean_squared_error\n",
    "from sklearn.metrics import mean_absolute_error\n",
    "from sklearn.metrics import r2_score\n",
    "import math\n",
    "y_pred = reg.predict(X_test)  # predict the demand for X_test\n",
    "mse = mean_squared_error(y_test, y_pred)  # Real vs predicted demand for X_test\n",
    "mae = mean_absolute_error(y_test, y_pred)\n",
    "r2 = r2_score(y_test,y_pred)\n",
    "print(\"pred set shape: %s\" %(y_pred.shape[0]) )\n",
    "print ('mse = {}, rmse = {} \\nmae = {} r2 = {}'.format(mse,math.sqrt(mse), mae, r2))\n",
    "\n"
   ]
  },
  {
   "cell_type": "code",
   "execution_count": null,
   "metadata": {
    "collapsed": true
   },
   "outputs": [],
   "source": []
  },
  {
   "cell_type": "code",
   "execution_count": 14,
   "metadata": {},
   "outputs": [
    {
     "data": {
      "image/png": "[encoded data removed]",
      "text/plain": [
       "<matplotlib.figure.Figure at 0x2608424e4e0>"
      ]
     },
     "metadata": {},
     "output_type": "display_data"
    }
   ],
   "source": [
    "import matplotlib.pyplot as plt\n",
    "fig, ax = plt.subplots()\n",
    "ax.scatter(y_test, y_pred, edgecolors=(0, 0, 0))\n",
    "ax.plot([y_test.min(), y_test.max()], [y_pred.min(), y_pred.max()], 'k--', lw=4)\n",
    "ax.set_xlabel('Measured')\n",
    "ax.set_ylabel('Predicted')\n",
    "plt.show()"
   ]
  },
  {
   "cell_type": "code",
   "execution_count": 15,
   "metadata": {},
   "outputs": [
    {
     "data": {
      "text/html": [
       "<div>\n",
       "<style>\n",
       "    .dataframe thead tr:only-child th {\n",
       "        text-align: right;\n",
       "    }\n",
       "\n",
       "    .dataframe thead th {\n",
       "        text-align: left;\n",
       "    }\n",
       "\n",
       "    .dataframe tbody tr th {\n",
       "        vertical-align: top;\n",
       "    }\n",
       "</style>\n",
       "<table border=\"1\" class=\"dataframe\">\n",
       "  <thead>\n",
       "    <tr style=\"text-align: right;\">\n",
       "      <th></th>\n",
       "      <th>Date_m</th>\n",
       "    </tr>\n",
       "  </thead>\n",
       "  <tbody>\n",
       "    <tr>\n",
       "      <th>0</th>\n",
       "      <td>43109</td>\n",
       "    </tr>\n",
       "    <tr>\n",
       "      <th>1</th>\n",
       "      <td>43110</td>\n",
       "    </tr>\n",
       "    <tr>\n",
       "      <th>2</th>\n",
       "      <td>43111</td>\n",
       "    </tr>\n",
       "    <tr>\n",
       "      <th>3</th>\n",
       "      <td>43112</td>\n",
       "    </tr>\n",
       "    <tr>\n",
       "      <th>4</th>\n",
       "      <td>43113</td>\n",
       "    </tr>\n",
       "    <tr>\n",
       "      <th>5</th>\n",
       "      <td>43114</td>\n",
       "    </tr>\n",
       "    <tr>\n",
       "      <th>6</th>\n",
       "      <td>43115</td>\n",
       "    </tr>\n",
       "    <tr>\n",
       "      <th>7</th>\n",
       "      <td>43116</td>\n",
       "    </tr>\n",
       "    <tr>\n",
       "      <th>8</th>\n",
       "      <td>43117</td>\n",
       "    </tr>\n",
       "    <tr>\n",
       "      <th>9</th>\n",
       "      <td>43118</td>\n",
       "    </tr>\n",
       "  </tbody>\n",
       "</table>\n",
       "</div>"
      ],
      "text/plain": [
       "   Date_m\n",
       "0   43109\n",
       "1   43110\n",
       "2   43111\n",
       "3   43112\n",
       "4   43113\n",
       "5   43114\n",
       "6   43115\n",
       "7   43116\n",
       "8   43117\n",
       "9   43118"
      ]
     },
     "execution_count": 15,
     "metadata": {},
     "output_type": "execute_result"
    }
   ],
   "source": [
    "df = pd.read_csv('Dates2predict.csv', index_col = 0, skiprows=0)\n",
    "df=df.reset_index()\n",
    "df.head(10)"
   ]
  },
  {
   "cell_type": "code",
   "execution_count": 16,
   "metadata": {},
   "outputs": [
    {
     "data": {
      "image/png": "[encoded data removed]",
      "text/plain": [
       "<matplotlib.figure.Figure at 0x26085195b70>"
      ]
     },
     "metadata": {},
     "output_type": "display_data"
    }
   ],
   "source": [
    "X_test = df\n",
    "y_pred = reg.predict(X_test)\n",
    "\n",
    "import matplotlib.pyplot as plt\n",
    "fig, ax = plt.subplots()\n",
    "ax.scatter(X_test.index,y_pred, edgecolors=(0, 0, 0))\n",
    "ax.set_xlabel('index')\n",
    "ax.set_ylabel('price')\n",
    "plt.show()\n"
   ]
  },
  {
   "cell_type": "code",
   "execution_count": 17,
   "metadata": {},
   "outputs": [
    {
     "name": "stdout",
     "output_type": "stream",
     "text": [
      "train set shape: 83, 83\n",
      "test set shape: 0, 83\n"
     ]
    },
    {
     "data": {
      "text/plain": [
       "Lasso(alpha=1.0, copy_X=True, fit_intercept=True, max_iter=1000,\n",
       "   normalize=False, positive=False, precompute=False, random_state=None,\n",
       "   selection='cyclic', tol=0.0001, warm_start=False)"
      ]
     },
     "execution_count": 17,
     "metadata": {},
     "output_type": "execute_result"
    }
   ],
   "source": [
    "\n",
    "import numpy as np\n",
    "from sklearn.cross_validation import train_test_split\n",
    "\n",
    "X_train, X_test, y_train, y_test = train_test_split(X, y, test_size=0.0, random_state=123)\n",
    "\n",
    "\n",
    "print(\"train set shape: %s, %s\" %(X_train.shape[0],y_train.shape[0]) )\n",
    "print(\"test set shape: %s, %s\" %(X_test.shape[0],y_train.shape[0]) )\n",
    "from sklearn import linear_model\n",
    "reg = linear_model.Lasso()\n",
    "reg.fit(X_train, y_train)"
   ]
  },
  {
   "cell_type": "code",
   "execution_count": 18,
   "metadata": {},
   "outputs": [
    {
     "data": {
      "image/png": "[encoded data removed]",
      "text/plain": [
       "<matplotlib.figure.Figure at 0x2608651bcc0>"
      ]
     },
     "metadata": {},
     "output_type": "display_data"
    }
   ],
   "source": [
    "import matplotlib.pyplot as plt\n",
    "fig, ax = plt.subplots()\n",
    "ax.scatter(X_train,y_train, edgecolors=(0, 0, 0))\n",
    "ax.set_xlabel('time')\n",
    "ax.set_ylabel('price')\n",
    "plt.show()\n"
   ]
  },
  {
   "cell_type": "code",
   "execution_count": null,
   "metadata": {
    "collapsed": true
   },
   "outputs": [],
   "source": []
  },
  {
   "cell_type": "code",
   "execution_count": null,
   "metadata": {
    "collapsed": true
   },
   "outputs": [],
   "source": []
  },
  {
   "cell_type": "code",
   "execution_count": 19,
   "metadata": {},
   "outputs": [
    {
     "data": {
      "text/html": [
       "<div>\n",
       "<style>\n",
       "    .dataframe thead tr:only-child th {\n",
       "        text-align: right;\n",
       "    }\n",
       "\n",
       "    .dataframe thead th {\n",
       "        text-align: left;\n",
       "    }\n",
       "\n",
       "    .dataframe tbody tr th {\n",
       "        vertical-align: top;\n",
       "    }\n",
       "</style>\n",
       "<table border=\"1\" class=\"dataframe\">\n",
       "  <thead>\n",
       "    <tr style=\"text-align: right;\">\n",
       "      <th></th>\n",
       "      <th>Date_m</th>\n",
       "    </tr>\n",
       "  </thead>\n",
       "  <tbody>\n",
       "    <tr>\n",
       "      <th>0</th>\n",
       "      <td>43109</td>\n",
       "    </tr>\n",
       "    <tr>\n",
       "      <th>1</th>\n",
       "      <td>43110</td>\n",
       "    </tr>\n",
       "    <tr>\n",
       "      <th>2</th>\n",
       "      <td>43111</td>\n",
       "    </tr>\n",
       "    <tr>\n",
       "      <th>3</th>\n",
       "      <td>43112</td>\n",
       "    </tr>\n",
       "    <tr>\n",
       "      <th>4</th>\n",
       "      <td>43113</td>\n",
       "    </tr>\n",
       "    <tr>\n",
       "      <th>5</th>\n",
       "      <td>43114</td>\n",
       "    </tr>\n",
       "    <tr>\n",
       "      <th>6</th>\n",
       "      <td>43115</td>\n",
       "    </tr>\n",
       "    <tr>\n",
       "      <th>7</th>\n",
       "      <td>43116</td>\n",
       "    </tr>\n",
       "    <tr>\n",
       "      <th>8</th>\n",
       "      <td>43117</td>\n",
       "    </tr>\n",
       "    <tr>\n",
       "      <th>9</th>\n",
       "      <td>43118</td>\n",
       "    </tr>\n",
       "  </tbody>\n",
       "</table>\n",
       "</div>"
      ],
      "text/plain": [
       "   Date_m\n",
       "0   43109\n",
       "1   43110\n",
       "2   43111\n",
       "3   43112\n",
       "4   43113\n",
       "5   43114\n",
       "6   43115\n",
       "7   43116\n",
       "8   43117\n",
       "9   43118"
      ]
     },
     "execution_count": 19,
     "metadata": {},
     "output_type": "execute_result"
    }
   ],
   "source": [
    "df = pd.read_csv('Dates2predict.csv', index_col = 0, skiprows=0)\n",
    "df=df.reset_index()\n",
    "X_test = df\n",
    "\n",
    "X_test.head(10)\n"
   ]
  },
  {
   "cell_type": "code",
   "execution_count": 20,
   "metadata": {},
   "outputs": [
    {
     "data": {
      "image/png": "[encoded data removed]",
      "text/plain": [
       "<matplotlib.figure.Figure at 0x260864c82e8>"
      ]
     },
     "metadata": {},
     "output_type": "display_data"
    }
   ],
   "source": [
    "y_pred = reg.predict(X_test)\n",
    "\n",
    "import matplotlib.pyplot as plt\n",
    "fig, ax = plt.subplots()\n",
    "ax.scatter(X_test,y_pred, edgecolors=(0, 0, 0))\n",
    "ax.set_xlabel('time')\n",
    "ax.set_ylabel('price')\n",
    "plt.show()\n",
    "\n",
    "prediction = pd.DataFrame(X_test,y_pred).to_csv('prediction_2YTN.csv')\n"
   ]
  },
  {
   "cell_type": "code",
   "execution_count": null,
   "metadata": {
    "collapsed": true
   },
   "outputs": [],
   "source": []
  }
 ],
 "metadata": {
  "kernelspec": {
   "display_name": "Python 3",
   "language": "python",
   "name": "python3"
  },
  "language_info": {
   "codemirror_mode": {
    "name": "ipython",
    "version": 3
   },
   "file_extension": ".py",
   "mimetype": "text/x-python",
   "name": "python",
   "nbconvert_exporter": "python",
   "pygments_lexer": "ipython3",
   "version": "3.6.1"
  }
 },
 "nbformat": 4,
 "nbformat_minor": 2
}
