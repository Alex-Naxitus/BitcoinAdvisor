{
 "cells": [
  {
   "cell_type": "code",
   "execution_count": 12,
   "metadata": {
    "collapsed": true
   },
   "outputs": [],
   "source": [
    "# imports\n",
    "import warnings\n",
    "warnings.filterwarnings('ignore')\n",
    "import pandas as pd\n",
    "import numpy as np\n",
    "import matplotlib.pyplot as plt\n",
    "%matplotlib inline"
   ]
  },
  {
   "cell_type": "code",
   "execution_count": 13,
   "metadata": {},
   "outputs": [
    {
     "name": "stdout",
     "output_type": "stream",
     "text": [
      "(52, 8)\n"
     ]
    },
    {
     "data": {
      "text/html": [
       "<div>\n",
       "<style>\n",
       "    .dataframe thead tr:only-child th {\n",
       "        text-align: right;\n",
       "    }\n",
       "\n",
       "    .dataframe thead th {\n",
       "        text-align: left;\n",
       "    }\n",
       "\n",
       "    .dataframe tbody tr th {\n",
       "        vertical-align: top;\n",
       "    }\n",
       "</style>\n",
       "<table border=\"1\" class=\"dataframe\">\n",
       "  <thead>\n",
       "    <tr style=\"text-align: right;\">\n",
       "      <th></th>\n",
       "      <th>Date</th>\n",
       "      <th>Price</th>\n",
       "      <th>Open</th>\n",
       "      <th>High</th>\n",
       "      <th>Low</th>\n",
       "      <th>Vol.</th>\n",
       "      <th>Change %</th>\n",
       "      <th>Date_m</th>\n",
       "    </tr>\n",
       "  </thead>\n",
       "  <tbody>\n",
       "    <tr>\n",
       "      <th>0</th>\n",
       "      <td>01-Jan-18</td>\n",
       "      <td>752.46</td>\n",
       "      <td>736.77</td>\n",
       "      <td>762.00</td>\n",
       "      <td>717.94</td>\n",
       "      <td>121500</td>\n",
       "      <td>2.13</td>\n",
       "      <td>43101</td>\n",
       "    </tr>\n",
       "    <tr>\n",
       "      <th>1</th>\n",
       "      <td>02-Jan-18</td>\n",
       "      <td>858.78</td>\n",
       "      <td>752.46</td>\n",
       "      <td>890.00</td>\n",
       "      <td>752.46</td>\n",
       "      <td>420900</td>\n",
       "      <td>14.13</td>\n",
       "      <td>43102</td>\n",
       "    </tr>\n",
       "    <tr>\n",
       "      <th>2</th>\n",
       "      <td>03-Jan-18</td>\n",
       "      <td>942.01</td>\n",
       "      <td>858.78</td>\n",
       "      <td>954.73</td>\n",
       "      <td>840.00</td>\n",
       "      <td>310500</td>\n",
       "      <td>9.69</td>\n",
       "      <td>43103</td>\n",
       "    </tr>\n",
       "    <tr>\n",
       "      <th>3</th>\n",
       "      <td>04-Jan-18</td>\n",
       "      <td>940.00</td>\n",
       "      <td>942.01</td>\n",
       "      <td>997.00</td>\n",
       "      <td>893.24</td>\n",
       "      <td>348600</td>\n",
       "      <td>-0.21</td>\n",
       "      <td>43104</td>\n",
       "    </tr>\n",
       "    <tr>\n",
       "      <th>4</th>\n",
       "      <td>05-Jan-18</td>\n",
       "      <td>962.77</td>\n",
       "      <td>939.30</td>\n",
       "      <td>1023.60</td>\n",
       "      <td>930.00</td>\n",
       "      <td>298200</td>\n",
       "      <td>2.42</td>\n",
       "      <td>43105</td>\n",
       "    </tr>\n",
       "    <tr>\n",
       "      <th>5</th>\n",
       "      <td>06-Jan-18</td>\n",
       "      <td>1004.30</td>\n",
       "      <td>962.77</td>\n",
       "      <td>1014.20</td>\n",
       "      <td>951.38</td>\n",
       "      <td>127700</td>\n",
       "      <td>4.31</td>\n",
       "      <td>43106</td>\n",
       "    </tr>\n",
       "    <tr>\n",
       "      <th>6</th>\n",
       "      <td>07-Jan-18</td>\n",
       "      <td>1115.80</td>\n",
       "      <td>1004.30</td>\n",
       "      <td>1116.00</td>\n",
       "      <td>999.50</td>\n",
       "      <td>199800</td>\n",
       "      <td>11.10</td>\n",
       "      <td>43107</td>\n",
       "    </tr>\n",
       "    <tr>\n",
       "      <th>7</th>\n",
       "      <td>08-Jan-18</td>\n",
       "      <td>1129.30</td>\n",
       "      <td>1115.90</td>\n",
       "      <td>1225.00</td>\n",
       "      <td>968.12</td>\n",
       "      <td>439400</td>\n",
       "      <td>1.21</td>\n",
       "      <td>43108</td>\n",
       "    </tr>\n",
       "    <tr>\n",
       "      <th>8</th>\n",
       "      <td>09-Jan-18</td>\n",
       "      <td>1283.70</td>\n",
       "      <td>1129.40</td>\n",
       "      <td>1299.00</td>\n",
       "      <td>1119.10</td>\n",
       "      <td>296900</td>\n",
       "      <td>13.67</td>\n",
       "      <td>43109</td>\n",
       "    </tr>\n",
       "    <tr>\n",
       "      <th>9</th>\n",
       "      <td>10-Jan-18</td>\n",
       "      <td>1248.00</td>\n",
       "      <td>1285.70</td>\n",
       "      <td>1381.90</td>\n",
       "      <td>1203.20</td>\n",
       "      <td>380400</td>\n",
       "      <td>-2.78</td>\n",
       "      <td>43110</td>\n",
       "    </tr>\n",
       "  </tbody>\n",
       "</table>\n",
       "</div>"
      ],
      "text/plain": [
       "        Date    Price     Open     High      Low    Vol.  Change %  Date_m\n",
       "0  01-Jan-18   752.46   736.77   762.00   717.94  121500      2.13   43101\n",
       "1  02-Jan-18   858.78   752.46   890.00   752.46  420900     14.13   43102\n",
       "2  03-Jan-18   942.01   858.78   954.73   840.00  310500      9.69   43103\n",
       "3  04-Jan-18   940.00   942.01   997.00   893.24  348600     -0.21   43104\n",
       "4  05-Jan-18   962.77   939.30  1023.60   930.00  298200      2.42   43105\n",
       "5  06-Jan-18  1004.30   962.77  1014.20   951.38  127700      4.31   43106\n",
       "6  07-Jan-18  1115.80  1004.30  1116.00   999.50  199800     11.10   43107\n",
       "7  08-Jan-18  1129.30  1115.90  1225.00   968.12  439400      1.21   43108\n",
       "8  09-Jan-18  1283.70  1129.40  1299.00  1119.10  296900     13.67   43109\n",
       "9  10-Jan-18  1248.00  1285.70  1381.90  1203.20  380400     -2.78   43110"
      ]
     },
     "execution_count": 13,
     "metadata": {},
     "output_type": "execute_result"
    }
   ],
   "source": [
    "df = pd.read_csv('ETH.csv', index_col = 0, skiprows=0)\n",
    "df=df.reset_index()\n",
    "print(df.shape)\n",
    "df.head(10)"
   ]
  },
  {
   "cell_type": "code",
   "execution_count": 14,
   "metadata": {},
   "outputs": [
    {
     "data": {
      "text/html": [
       "<div>\n",
       "<style>\n",
       "    .dataframe thead tr:only-child th {\n",
       "        text-align: right;\n",
       "    }\n",
       "\n",
       "    .dataframe thead th {\n",
       "        text-align: left;\n",
       "    }\n",
       "\n",
       "    .dataframe tbody tr th {\n",
       "        vertical-align: top;\n",
       "    }\n",
       "</style>\n",
       "<table border=\"1\" class=\"dataframe\">\n",
       "  <thead>\n",
       "    <tr style=\"text-align: right;\">\n",
       "      <th></th>\n",
       "      <th>Price</th>\n",
       "      <th>Date_m</th>\n",
       "    </tr>\n",
       "  </thead>\n",
       "  <tbody>\n",
       "    <tr>\n",
       "      <th>0</th>\n",
       "      <td>752.46</td>\n",
       "      <td>43101</td>\n",
       "    </tr>\n",
       "    <tr>\n",
       "      <th>1</th>\n",
       "      <td>858.78</td>\n",
       "      <td>43102</td>\n",
       "    </tr>\n",
       "    <tr>\n",
       "      <th>2</th>\n",
       "      <td>942.01</td>\n",
       "      <td>43103</td>\n",
       "    </tr>\n",
       "    <tr>\n",
       "      <th>3</th>\n",
       "      <td>940.00</td>\n",
       "      <td>43104</td>\n",
       "    </tr>\n",
       "    <tr>\n",
       "      <th>4</th>\n",
       "      <td>962.77</td>\n",
       "      <td>43105</td>\n",
       "    </tr>\n",
       "    <tr>\n",
       "      <th>5</th>\n",
       "      <td>1004.30</td>\n",
       "      <td>43106</td>\n",
       "    </tr>\n",
       "    <tr>\n",
       "      <th>6</th>\n",
       "      <td>1115.80</td>\n",
       "      <td>43107</td>\n",
       "    </tr>\n",
       "    <tr>\n",
       "      <th>7</th>\n",
       "      <td>1129.30</td>\n",
       "      <td>43108</td>\n",
       "    </tr>\n",
       "    <tr>\n",
       "      <th>8</th>\n",
       "      <td>1283.70</td>\n",
       "      <td>43109</td>\n",
       "    </tr>\n",
       "    <tr>\n",
       "      <th>9</th>\n",
       "      <td>1248.00</td>\n",
       "      <td>43110</td>\n",
       "    </tr>\n",
       "  </tbody>\n",
       "</table>\n",
       "</div>"
      ],
      "text/plain": [
       "     Price  Date_m\n",
       "0   752.46   43101\n",
       "1   858.78   43102\n",
       "2   942.01   43103\n",
       "3   940.00   43104\n",
       "4   962.77   43105\n",
       "5  1004.30   43106\n",
       "6  1115.80   43107\n",
       "7  1129.30   43108\n",
       "8  1283.70   43109\n",
       "9  1248.00   43110"
      ]
     },
     "execution_count": 14,
     "metadata": {},
     "output_type": "execute_result"
    }
   ],
   "source": [
    "df=df.drop(\"Date\",axis=1,inplace=False);\n",
    "df=df.drop(\"Vol.\",axis=1,inplace=False);\n",
    "df=df.drop(\"Change %\",axis=1,inplace=False);\n",
    "df=df.drop(\"Low\",axis=1,inplace=False);\n",
    "df=df.drop(\"High\",axis=1,inplace=False);\n",
    "df=df.drop(\"Open\",axis=1,inplace=False);\n",
    "y =  df[\"Price\"]\n",
    "X = df.drop([\"Price\"],axis=1,inplace=False)\n",
    "df.head(10)"
   ]
  },
  {
   "cell_type": "code",
   "execution_count": 15,
   "metadata": {},
   "outputs": [
    {
     "name": "stdout",
     "output_type": "stream",
     "text": [
      "train set shape: 36, 36\n",
      "test set shape: 16, 36\n",
      "pred set shape: 16\n",
      "mse = 34507.46300172989, rmse = 185.76184484906983 \n",
      "mae = 147.39670278178832 r2 = 0.16327802753176912\n"
     ]
    }
   ],
   "source": [
    "import numpy as np\n",
    "from sklearn.cross_validation import train_test_split\n",
    "\n",
    "X_train, X_test, y_train, y_test = train_test_split(X, y, test_size=0.3, random_state=123)\n",
    "\n",
    "print(\"train set shape: %s, %s\" %(X_train.shape[0],y_train.shape[0]) )\n",
    "print(\"test set shape: %s, %s\" %(X_test.shape[0],y_train.shape[0]) )\n",
    "from sklearn import linear_model\n",
    "reg = linear_model.Lasso(alpha = 0.1)\n",
    "reg.fit(X_train, y_train)\n",
    "\n",
    "\n",
    "from sklearn.metrics import mean_squared_error\n",
    "from sklearn.metrics import mean_absolute_error\n",
    "from sklearn.metrics import r2_score\n",
    "import math\n",
    "y_pred = reg.predict(X_test)  # predict the demand for X_test\n",
    "mse = mean_squared_error(y_test, y_pred)  # Real vs predicted demand for X_test\n",
    "mae = mean_absolute_error(y_test, y_pred)\n",
    "r2 = r2_score(y_test,y_pred)\n",
    "print(\"pred set shape: %s\" %(y_pred.shape[0]) )\n",
    "print ('mse = {}, rmse = {} \\nmae = {} r2 = {}'.format(mse,math.sqrt(mse), mae, r2))\n",
    "\n"
   ]
  },
  {
   "cell_type": "code",
   "execution_count": null,
   "metadata": {
    "collapsed": true
   },
   "outputs": [],
   "source": []
  },
  {
   "cell_type": "code",
   "execution_count": 16,
   "metadata": {},
   "outputs": [
    {
     "data": {
      "image/png": "[encoded data removed]",
      "text/plain": [
       "<matplotlib.figure.Figure at 0x2aa675e8b00>"
      ]
     },
     "metadata": {},
     "output_type": "display_data"
    }
   ],
   "source": [
    "import matplotlib.pyplot as plt\n",
    "fig, ax = plt.subplots()\n",
    "ax.scatter(y_test, y_pred, edgecolors=(0, 0, 0))\n",
    "ax.plot([y_test.min(), y_test.max()], [y_pred.min(), y_pred.max()], 'k--', lw=4)\n",
    "ax.set_xlabel('Measured')\n",
    "ax.set_ylabel('Predicted')\n",
    "plt.show()"
   ]
  },
  {
   "cell_type": "code",
   "execution_count": 17,
   "metadata": {},
   "outputs": [
    {
     "data": {
      "text/html": [
       "<div>\n",
       "<style>\n",
       "    .dataframe thead tr:only-child th {\n",
       "        text-align: right;\n",
       "    }\n",
       "\n",
       "    .dataframe thead th {\n",
       "        text-align: left;\n",
       "    }\n",
       "\n",
       "    .dataframe tbody tr th {\n",
       "        vertical-align: top;\n",
       "    }\n",
       "</style>\n",
       "<table border=\"1\" class=\"dataframe\">\n",
       "  <thead>\n",
       "    <tr style=\"text-align: right;\">\n",
       "      <th></th>\n",
       "      <th>Date_m</th>\n",
       "    </tr>\n",
       "  </thead>\n",
       "  <tbody>\n",
       "    <tr>\n",
       "      <th>0</th>\n",
       "      <td>43109</td>\n",
       "    </tr>\n",
       "    <tr>\n",
       "      <th>1</th>\n",
       "      <td>43110</td>\n",
       "    </tr>\n",
       "    <tr>\n",
       "      <th>2</th>\n",
       "      <td>43111</td>\n",
       "    </tr>\n",
       "    <tr>\n",
       "      <th>3</th>\n",
       "      <td>43112</td>\n",
       "    </tr>\n",
       "    <tr>\n",
       "      <th>4</th>\n",
       "      <td>43113</td>\n",
       "    </tr>\n",
       "    <tr>\n",
       "      <th>5</th>\n",
       "      <td>43114</td>\n",
       "    </tr>\n",
       "    <tr>\n",
       "      <th>6</th>\n",
       "      <td>43115</td>\n",
       "    </tr>\n",
       "    <tr>\n",
       "      <th>7</th>\n",
       "      <td>43116</td>\n",
       "    </tr>\n",
       "    <tr>\n",
       "      <th>8</th>\n",
       "      <td>43117</td>\n",
       "    </tr>\n",
       "    <tr>\n",
       "      <th>9</th>\n",
       "      <td>43118</td>\n",
       "    </tr>\n",
       "  </tbody>\n",
       "</table>\n",
       "</div>"
      ],
      "text/plain": [
       "   Date_m\n",
       "0   43109\n",
       "1   43110\n",
       "2   43111\n",
       "3   43112\n",
       "4   43113\n",
       "5   43114\n",
       "6   43115\n",
       "7   43116\n",
       "8   43117\n",
       "9   43118"
      ]
     },
     "execution_count": 17,
     "metadata": {},
     "output_type": "execute_result"
    }
   ],
   "source": [
    "df = pd.read_csv('Dates2predict.csv', index_col = 0, skiprows=0)\n",
    "df=df.reset_index()\n",
    "df.head(10)"
   ]
  },
  {
   "cell_type": "code",
   "execution_count": 18,
   "metadata": {},
   "outputs": [
    {
     "data": {
      "image/png": "[encoded data removed]",
      "text/plain": [
       "<matplotlib.figure.Figure at 0x2aa676466d8>"
      ]
     },
     "metadata": {},
     "output_type": "display_data"
    }
   ],
   "source": [
    "X_test = df\n",
    "y_pred = reg.predict(X_test)\n",
    "\n",
    "import matplotlib.pyplot as plt\n",
    "fig, ax = plt.subplots()\n",
    "ax.scatter(X_test.index,y_pred, edgecolors=(0, 0, 0))\n",
    "ax.set_xlabel('index')\n",
    "ax.set_ylabel('price')\n",
    "plt.show()\n"
   ]
  },
  {
   "cell_type": "code",
   "execution_count": 19,
   "metadata": {},
   "outputs": [
    {
     "name": "stdout",
     "output_type": "stream",
     "text": [
      "train set shape: 52, 52\n",
      "test set shape: 0, 52\n"
     ]
    },
    {
     "data": {
      "text/plain": [
       "Lasso(alpha=1.0, copy_X=True, fit_intercept=True, max_iter=1000,\n",
       "   normalize=False, positive=False, precompute=False, random_state=None,\n",
       "   selection='cyclic', tol=0.0001, warm_start=False)"
      ]
     },
     "execution_count": 19,
     "metadata": {},
     "output_type": "execute_result"
    }
   ],
   "source": [
    "\n",
    "import numpy as np\n",
    "from sklearn.cross_validation import train_test_split\n",
    "\n",
    "X_train, X_test, y_train, y_test = train_test_split(X, y, test_size=0.0, random_state=123)\n",
    "\n",
    "\n",
    "print(\"train set shape: %s, %s\" %(X_train.shape[0],y_train.shape[0]) )\n",
    "print(\"test set shape: %s, %s\" %(X_test.shape[0],y_train.shape[0]) )\n",
    "from sklearn import linear_model\n",
    "reg = linear_model.Lasso()\n",
    "reg.fit(X_train, y_train)"
   ]
  },
  {
   "cell_type": "code",
   "execution_count": 20,
   "metadata": {},
   "outputs": [
    {
     "data": {
      "image/png": "[encoded data removed]",
      "text/plain": [
       "<matplotlib.figure.Figure at 0x2aa677877b8>"
      ]
     },
     "metadata": {},
     "output_type": "display_data"
    }
   ],
   "source": [
    "import matplotlib.pyplot as plt\n",
    "fig, ax = plt.subplots()\n",
    "ax.scatter(X_train,y_train, edgecolors=(0, 0, 0))\n",
    "ax.set_xlabel('time')\n",
    "ax.set_ylabel('price')\n",
    "plt.show()\n"
   ]
  },
  {
   "cell_type": "code",
   "execution_count": null,
   "metadata": {
    "collapsed": true
   },
   "outputs": [],
   "source": []
  },
  {
   "cell_type": "code",
   "execution_count": null,
   "metadata": {
    "collapsed": true
   },
   "outputs": [],
   "source": []
  },
  {
   "cell_type": "code",
   "execution_count": 21,
   "metadata": {},
   "outputs": [
    {
     "data": {
      "text/html": [
       "<div>\n",
       "<style>\n",
       "    .dataframe thead tr:only-child th {\n",
       "        text-align: right;\n",
       "    }\n",
       "\n",
       "    .dataframe thead th {\n",
       "        text-align: left;\n",
       "    }\n",
       "\n",
       "    .dataframe tbody tr th {\n",
       "        vertical-align: top;\n",
       "    }\n",
       "</style>\n",
       "<table border=\"1\" class=\"dataframe\">\n",
       "  <thead>\n",
       "    <tr style=\"text-align: right;\">\n",
       "      <th></th>\n",
       "      <th>Date_m</th>\n",
       "    </tr>\n",
       "  </thead>\n",
       "  <tbody>\n",
       "    <tr>\n",
       "      <th>0</th>\n",
       "      <td>43109</td>\n",
       "    </tr>\n",
       "    <tr>\n",
       "      <th>1</th>\n",
       "      <td>43110</td>\n",
       "    </tr>\n",
       "    <tr>\n",
       "      <th>2</th>\n",
       "      <td>43111</td>\n",
       "    </tr>\n",
       "    <tr>\n",
       "      <th>3</th>\n",
       "      <td>43112</td>\n",
       "    </tr>\n",
       "    <tr>\n",
       "      <th>4</th>\n",
       "      <td>43113</td>\n",
       "    </tr>\n",
       "    <tr>\n",
       "      <th>5</th>\n",
       "      <td>43114</td>\n",
       "    </tr>\n",
       "    <tr>\n",
       "      <th>6</th>\n",
       "      <td>43115</td>\n",
       "    </tr>\n",
       "    <tr>\n",
       "      <th>7</th>\n",
       "      <td>43116</td>\n",
       "    </tr>\n",
       "    <tr>\n",
       "      <th>8</th>\n",
       "      <td>43117</td>\n",
       "    </tr>\n",
       "    <tr>\n",
       "      <th>9</th>\n",
       "      <td>43118</td>\n",
       "    </tr>\n",
       "  </tbody>\n",
       "</table>\n",
       "</div>"
      ],
      "text/plain": [
       "   Date_m\n",
       "0   43109\n",
       "1   43110\n",
       "2   43111\n",
       "3   43112\n",
       "4   43113\n",
       "5   43114\n",
       "6   43115\n",
       "7   43116\n",
       "8   43117\n",
       "9   43118"
      ]
     },
     "execution_count": 21,
     "metadata": {},
     "output_type": "execute_result"
    }
   ],
   "source": [
    "df = pd.read_csv('Dates2predict.csv', index_col = 0, skiprows=0)\n",
    "df=df.reset_index()\n",
    "X_test = df\n",
    "\n",
    "X_test.head(10)\n"
   ]
  },
  {
   "cell_type": "code",
   "execution_count": 22,
   "metadata": {},
   "outputs": [
    {
     "data": {
      "image/png": "[encoded data removed]",
      "text/plain": [
       "<matplotlib.figure.Figure at 0x2aa676dab70>"
      ]
     },
     "metadata": {},
     "output_type": "display_data"
    }
   ],
   "source": [
    "y_pred = reg.predict(X_test)\n",
    "\n",
    "import matplotlib.pyplot as plt\n",
    "fig, ax = plt.subplots()\n",
    "ax.scatter(X_test,y_pred, edgecolors=(0, 0, 0))\n",
    "ax.set_xlabel('time')\n",
    "ax.set_ylabel('price')\n",
    "plt.show()\n",
    "\n",
    "prediction = pd.DataFrame(X_test,y_pred).to_csv('prediction_ETH.csv')\n"
   ]
  },
  {
   "cell_type": "code",
   "execution_count": null,
   "metadata": {
    "collapsed": true
   },
   "outputs": [],
   "source": []
  }
 ],
 "metadata": {
  "kernelspec": {
   "display_name": "Python 3",
   "language": "python",
   "name": "python3"
  },
  "language_info": {
   "codemirror_mode": {
    "name": "ipython",
    "version": 3
   },
   "file_extension": ".py",
   "mimetype": "text/x-python",
   "name": "python",
   "nbconvert_exporter": "python",
   "pygments_lexer": "ipython3",
   "version": "3.6.1"
  }
 },
 "nbformat": 4,
 "nbformat_minor": 2
}
